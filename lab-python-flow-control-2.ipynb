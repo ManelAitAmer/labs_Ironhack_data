{
 "cells": [
  {
   "cell_type": "markdown",
   "id": "d3bfc191-8885-42ee-b0a0-bbab867c6f9f",
   "metadata": {
    "tags": []
   },
   "source": [
    "# Lab | Flow Control"
   ]
  },
  {
   "cell_type": "markdown",
   "id": "3851fcd1-cf98-4653-9c89-e003b7ec9400",
   "metadata": {},
   "source": [
    "## Exercise: Managing Customer Orders Optimized\n",
    "\n",
    "In the last lab, you were starting an online store that sells various products. To ensure smooth operations, you developed a program that manages customer orders and inventory.\n",
    "\n",
    "You did so without using flow control. Let's go a step further and improve this code.\n",
    "\n",
    "Follow the steps below to complete the exercise:\n",
    "\n",
    "1. Look at your code from the lab data structures, and improve repeated code with loops.\n",
    "\n",
    "2. Instead of asking the user to input the name of three products that a customer wants to order, do the following:\n",
    "    \n",
    "    a. Prompt the user to enter the name of a product that a customer wants to order.\n",
    "    \n",
    "    b. Add the product name to the \"customer_orders\" set.\n",
    "    \n",
    "    c. Ask the user if they want to add another product (yes/no).\n",
    "    \n",
    "    d. Continue the loop until the user does not want to add another product.\n",
    "\n",
    "3. Instead of updating the inventory by subtracting 1 from the quantity of each product, only do it for  the products that were ordered (those in \"customer_orders\")."
   ]
  },
  {
   "cell_type": "code",
   "execution_count": 1,
   "id": "c9fcbc7b",
   "metadata": {},
   "outputs": [
    {
     "data": {
      "text/plain": [
       "['t-shirt', 'mug', 'hat', 'book', 'keychain']"
      ]
     },
     "execution_count": 1,
     "metadata": {},
     "output_type": "execute_result"
    }
   ],
   "source": [
    "products = [\"t-shirt\", \"mug\", \"hat\", \"book\", \"keychain\"]\n",
    "products\n"
   ]
  },
  {
   "cell_type": "code",
   "execution_count": 2,
   "id": "89c546d6",
   "metadata": {},
   "outputs": [],
   "source": [
    "#Create an empty dictionary called inventory:\n",
    "\n",
    "inventory = {}\n"
   ]
  },
  {
   "cell_type": "code",
   "execution_count": 3,
   "id": "54cb1d0e",
   "metadata": {},
   "outputs": [
    {
     "name": "stdout",
     "output_type": "stream",
     "text": [
      "Enter the quantity of t-shirt: 10\n",
      "Enter the quantity of mug: 10\n",
      "Enter the quantity of hat: 10\n",
      "Enter the quantity of book: 10\n",
      "Enter the quantity of keychain: 10\n"
     ]
    }
   ],
   "source": [
    "for product in products:\n",
    "  \n",
    "    inventory[product] = int(input(f\"Enter the quantity of {product}: \"))\n",
    "\n"
   ]
  },
  {
   "cell_type": "code",
   "execution_count": 4,
   "id": "227c1f6b",
   "metadata": {},
   "outputs": [
    {
     "name": "stdout",
     "output_type": "stream",
     "text": [
      "{'t-shirt': 10, 'mug': 10, 'hat': 10, 'book': 10, 'keychain': 10}\n"
     ]
    }
   ],
   "source": [
    "print(inventory)\n"
   ]
  },
  {
   "cell_type": "code",
   "execution_count": 165,
   "id": "36998631",
   "metadata": {},
   "outputs": [
    {
     "name": "stdout",
     "output_type": "stream",
     "text": [
      "Enter product 1 from the list above: hat\n",
      "Enter product 2 from the list above: keychain\n",
      "Enter product 3 from the list above: book\n"
     ]
    }
   ],
   "source": [
    "customer_orders= set ()\n",
    "for i in range(3):\n",
    "    product = input(f\"Enter product {i+1} from the list above: \").strip()\n",
    "    while product not in products:\n",
    "        print(\"Invalid product name. Please choose from the available products.\")\n",
    "        product = input(f\"Enter product {i+1} from the list above: \").strip()\n",
    "    customer_orders.add(product)\n",
    " "
   ]
  },
  {
   "cell_type": "code",
   "execution_count": 168,
   "id": "6d7a5b06",
   "metadata": {},
   "outputs": [
    {
     "name": "stdout",
     "output_type": "stream",
     "text": [
      "{'keychain', 'book', 'hat'}\n"
     ]
    }
   ],
   "source": [
    "print(customer_orders)"
   ]
  },
  {
   "cell_type": "code",
   "execution_count": 169,
   "id": "c38eb1fe",
   "metadata": {},
   "outputs": [
    {
     "name": "stdout",
     "output_type": "stream",
     "text": [
      "3\n"
     ]
    }
   ],
   "source": [
    "print(len(customer_orders))"
   ]
  },
  {
   "cell_type": "code",
   "execution_count": 170,
   "id": "4ed09a05",
   "metadata": {},
   "outputs": [
    {
     "data": {
      "text/plain": [
       "5"
      ]
     },
     "execution_count": 170,
     "metadata": {},
     "output_type": "execute_result"
    }
   ],
   "source": [
    "len(products)"
   ]
  },
  {
   "cell_type": "code",
   "execution_count": 171,
   "id": "abbf43d9",
   "metadata": {},
   "outputs": [],
   "source": [
    "percentage_ordered = (len(customer_orders) / len(products)) * 100"
   ]
  },
  {
   "cell_type": "code",
   "execution_count": 177,
   "id": "29cff14a",
   "metadata": {},
   "outputs": [
    {
     "name": "stdout",
     "output_type": "stream",
     "text": [
      "\n",
      "Order Statistics:\n",
      "Total Products Ordered: 3\n",
      "Percentage of Products Ordered: 60.00%\n"
     ]
    }
   ],
   "source": [
    "print(\"\\nOrder Statistics:\")\n",
    "print(\"Total Products Ordered:\", len(customer_orders))\n",
    "print(\"Percentage of Products Ordered: {:.2f}%\".format(percentage_ordered))"
   ]
  },
  {
   "cell_type": "code",
   "execution_count": 184,
   "id": "fd0b67f8",
   "metadata": {
    "scrolled": true
   },
   "outputs": [
    {
     "name": "stdout",
     "output_type": "stream",
     "text": [
      "please enter a product that you want to add to your order 't-shirt\n"
     ]
    }
   ],
   "source": [
    "\n",
    "product_added=input(f\"please enter a product that you want to add to your order \")\n"
   ]
  },
  {
   "cell_type": "code",
   "execution_count": 185,
   "id": "fc1b6ff4",
   "metadata": {},
   "outputs": [
    {
     "name": "stdout",
     "output_type": "stream",
     "text": [
      "{'keychain', 'book', 'hat', \"'t-shirt\"}\n"
     ]
    }
   ],
   "source": [
    "customer_orders.add(product_added)\n",
    "print(customer_orders)"
   ]
  },
  {
   "cell_type": "code",
   "execution_count": 202,
   "id": "8e818141",
   "metadata": {},
   "outputs": [
    {
     "name": "stdout",
     "output_type": "stream",
     "text": [
      "Do you want to add another product? Yes/No: Yes\n",
      "select your product: ['t-shirt', 'mug', 'hat', 'book', 'keychain']mug\n",
      "Do you want to add another product? Yes/No: No\n"
     ]
    }
   ],
   "source": [
    "while input(\"Do you want to add another product? Yes/No: \") != \"No\":\n",
    "    prod = input(f\"select your product: {products}\")\n",
    "    customer_orders.add(prod)"
   ]
  },
  {
   "cell_type": "code",
   "execution_count": 205,
   "id": "bb172a97",
   "metadata": {},
   "outputs": [],
   "source": [
    "customer_orders.add(prod)"
   ]
  },
  {
   "cell_type": "code",
   "execution_count": 206,
   "id": "a47091ce",
   "metadata": {},
   "outputs": [
    {
     "data": {
      "text/plain": [
       "{\"'t-shirt\", 'book', 'hat', 'keychain', 'mug'}"
      ]
     },
     "execution_count": 206,
     "metadata": {},
     "output_type": "execute_result"
    }
   ],
   "source": [
    "customer_orders"
   ]
  },
  {
   "cell_type": "code",
   "execution_count": 210,
   "id": "d9198a91",
   "metadata": {},
   "outputs": [
    {
     "data": {
      "text/plain": [
       "{'book', 'hat', 'keychain', 'mug', 't-shirt'}"
      ]
     },
     "execution_count": 210,
     "metadata": {},
     "output_type": "execute_result"
    }
   ],
   "source": [
    "set(inventory)"
   ]
  },
  {
   "cell_type": "code",
   "execution_count": 213,
   "id": "ce73691a",
   "metadata": {},
   "outputs": [],
   "source": [
    "new_inventory= set(inventory) - customer_orders"
   ]
  },
  {
   "cell_type": "code",
   "execution_count": 216,
   "id": "76143e20",
   "metadata": {},
   "outputs": [
    {
     "data": {
      "text/plain": [
       "{'t-shirt'}"
      ]
     },
     "execution_count": 216,
     "metadata": {},
     "output_type": "execute_result"
    }
   ],
   "source": [
    "new_inventory"
   ]
  },
  {
   "cell_type": "code",
   "execution_count": null,
   "id": "c4c58805",
   "metadata": {},
   "outputs": [],
   "source": []
  }
 ],
 "metadata": {
  "kernelspec": {
   "display_name": "Python 3 (ipykernel)",
   "language": "python",
   "name": "python3"
  },
  "language_info": {
   "codemirror_mode": {
    "name": "ipython",
    "version": 3
   },
   "file_extension": ".py",
   "mimetype": "text/x-python",
   "name": "python",
   "nbconvert_exporter": "python",
   "pygments_lexer": "ipython3",
   "version": "3.11.5"
  }
 },
 "nbformat": 4,
 "nbformat_minor": 5
}
