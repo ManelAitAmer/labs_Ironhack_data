{
 "cells": [
  {
   "cell_type": "markdown",
   "id": "25d7736c-ba17-4aff-b6bb-66eba20fbf4e",
   "metadata": {},
   "source": [
    "# Lab | Functions"
   ]
  },
  {
   "cell_type": "markdown",
   "id": "0c581062-8967-4d93-b06e-62833222f930",
   "metadata": {
    "tags": []
   },
   "source": [
    "## Exercise: Managing Customer Orders with Functions\n",
    "\n",
    "In the previous exercise, you improved the code for managing customer orders by using loops and flow control. Now, let's take it a step further and refactor the code by introducing functions.\n",
    "\n",
    "Follow the steps below to complete the exercise:\n",
    "\n",
    "1. Define a function named `initialize_inventory` that takes `products` as a parameter. Inside the function, implement the code for initializing the inventory dictionary using a loop and user input.\n",
    "\n",
    "2. Define a function named `get_customer_orders` that takes no parameters. Inside the function, implement the code for prompting the user to enter the product names using a loop. The function should return the `customer_orders` set.\n",
    "\n",
    "3. Define a function named `update_inventory` that takes `customer_orders` and `inventory` as parameters. Inside the function, implement the code for updating the inventory dictionary based on the customer orders.\n",
    "\n",
    "4. Define a function named `calculate_order_statistics` that takes `customer_orders` and `products` as parameters. Inside the function, implement the code for calculating the order statistics (total products ordered, and percentage of unique products ordered). The function should return these values.\n",
    "\n",
    "5. Define a function named `print_order_statistics` that takes `order_statistics` as a parameter. Inside the function, implement the code for printing the order statistics.\n",
    "\n",
    "6. Define a function named `print_updated_inventory` that takes `inventory` as a parameter. Inside the function, implement the code for printing the updated inventory.\n",
    "\n",
    "7. Call the functions in the appropriate sequence to execute the program and manage customer orders.\n",
    "\n",
    "Hints for functions:\n",
    "\n",
    "- Consider the input parameters required for each function and their return values.\n",
    "- Utilize function parameters and return values to transfer data between functions.\n",
    "- Test your functions individually to ensure they work correctly.\n",
    "\n",
    "\n"
   ]
  },
  {
   "cell_type": "code",
   "execution_count": 18,
   "id": "e992074f",
   "metadata": {
    "scrolled": true
   },
   "outputs": [
    {
     "data": {
      "text/plain": [
       "['t-shirt', 'mug', 'hat', 'book', 'keychain']"
      ]
     },
     "execution_count": 18,
     "metadata": {},
     "output_type": "execute_result"
    }
   ],
   "source": [
    "# List called products:\n",
    "products = [\"t-shirt\", \"mug\", \"hat\", \"book\", \"keychain\"]\n",
    "products"
   ]
  },
  {
   "cell_type": "code",
   "execution_count": 19,
   "id": "32b0896d",
   "metadata": {},
   "outputs": [],
   "source": [
    "# define a function : \n",
    "def initialize_inventory(products):\n",
    "    \"\"\" this function takes products as a parameter, to permit to know the inventory which is defining the quantity \n",
    "    of each product in our list of products\"\"\"\n",
    "    inventory = {}\n",
    "    for product in products:\n",
    "        quantity = int(input(f\"Enter the quantity of {product}: \"))\n",
    "        inventory[product] = quantity\n",
    "    return inventory\n"
   ]
  },
  {
   "cell_type": "code",
   "execution_count": 20,
   "id": "3d8423f3",
   "metadata": {},
   "outputs": [
    {
     "name": "stdout",
     "output_type": "stream",
     "text": [
      "Enter the quantity of t-shirt: 5\n",
      "Enter the quantity of mug: 5\n",
      "Enter the quantity of hat: 5\n",
      "Enter the quantity of book: 5\n",
      "Enter the quantity of keychain: 5\n",
      "Inventory: {'t-shirt': 5, 'mug': 5, 'hat': 5, 'book': 5, 'keychain': 5}\n"
     ]
    }
   ],
   "source": [
    "inventory = initialize_inventory(products)\n",
    "print(\"Inventory:\", inventory)"
   ]
  },
  {
   "cell_type": "code",
   "execution_count": 21,
   "id": "de183f07",
   "metadata": {},
   "outputs": [],
   "source": [
    "# get Customer_orders :\n",
    "def get_customer_orders():\n",
    "    \n",
    "    \"\"\" this function doesn't take any parameter, to ask the user to put the quantity and the products he wants\n",
    "  to order \"\"\"  \n",
    "    \n",
    "    customer_orders = set()\n",
    "    orders = int(input(\"How many products do you want to order? \"))\n",
    "    \n",
    "    for i in range(orders):\n",
    "        product = input(f\"Please enter product {i+1}: \")\n",
    "        customer_orders.add(product)\n",
    "    return customer_orders\n",
    "    "
   ]
  },
  {
   "cell_type": "code",
   "execution_count": 22,
   "id": "94be6a7b",
   "metadata": {
    "scrolled": true
   },
   "outputs": [
    {
     "name": "stdout",
     "output_type": "stream",
     "text": [
      "How many products do you want to order? 3\n",
      "Please enter product 1: hat\n",
      "Please enter product 2: mug\n",
      "Please enter product 3: book\n",
      "customer orders: {'mug', 'book', 'hat'}\n"
     ]
    }
   ],
   "source": [
    "customer_orders = get_customer_orders()\n",
    "print(\"customer orders:\" , customer_orders)"
   ]
  },
  {
   "cell_type": "code",
   "execution_count": 23,
   "id": "4625d1f7",
   "metadata": {},
   "outputs": [],
   "source": [
    "#define a function to update inventory:\n",
    "def update_inventory (customer_orders,inventory):\n",
    "    \"\"\" this function takes 2 parameters customer orders and inventory,to return an updated inventory that with the \n",
    "    quantities left after the order of the customer\"\"\"\n",
    "    for product in customer_orders:\n",
    "        if product in inventory:\n",
    "            inventory[product] -= 1\n",
    "     \n",
    "    return inventory\n"
   ]
  },
  {
   "cell_type": "code",
   "execution_count": 24,
   "id": "80827e29",
   "metadata": {
    "scrolled": true
   },
   "outputs": [
    {
     "name": "stdout",
     "output_type": "stream",
     "text": [
      "Updated inventory: {'t-shirt': 5, 'mug': 4, 'hat': 4, 'book': 4, 'keychain': 5}\n"
     ]
    }
   ],
   "source": [
    "updated_inventory = update_inventory(customer_orders, inventory)\n",
    "print(\"Updated inventory:\", updated_inventory)"
   ]
  },
  {
   "cell_type": "code",
   "execution_count": 25,
   "id": "94630f76",
   "metadata": {},
   "outputs": [],
   "source": [
    "#function to calculate order statistics:\n",
    "def calculate_order_statistics(customer_orders,products):\n",
    "    \"\"\" this function take 2 parameters : customer orders and products , to return mathematic calculation of the \n",
    "    staistics \"\"\"\n",
    "  \n",
    "    total_products_ordered= len(customer_orders)\n",
    "    total_products=len(products)\n",
    "    percentage_of_unique_products_ordered=(len(customer_orders)/len(products))*100\n",
    "    return {\n",
    "        \"Total products ordered\": total_products_ordered,\n",
    "        \"Total products\": total_products,\n",
    "        \"Percentage of unique products ordered\": percentage_of_unique_products_ordered}"
   ]
  },
  {
   "cell_type": "code",
   "execution_count": 26,
   "id": "16d0089e",
   "metadata": {},
   "outputs": [],
   "source": [
    "#\n",
    "def print_order_statistics(order_statistics):\n",
    "    \"\"\" this function take order statistics as a parameter , to return the values of the \n",
    "    staistics \"\"\"\n",
    "    for statistic in order_statistics:\n",
    "\n",
    "        print(f\"{statistic}: {order_statistics[statistic]}\")"
   ]
  },
  {
   "cell_type": "code",
   "execution_count": 27,
   "id": "23a9519e",
   "metadata": {},
   "outputs": [
    {
     "name": "stdout",
     "output_type": "stream",
     "text": [
      "Total products ordered: 3\n",
      "Total products: 5\n",
      "Percentage of unique products ordered: 60.0\n"
     ]
    }
   ],
   "source": [
    "order_statistics = calculate_order_statistics(customer_orders, products)\n",
    "print_order_statistics(order_statistics)"
   ]
  },
  {
   "cell_type": "code",
   "execution_count": 28,
   "id": "d0439ab2",
   "metadata": {},
   "outputs": [],
   "source": [
    "#\n",
    "def print_updated_inventory(inventory):\n",
    "    print(\"Updated Inventory:\")\n",
    "    for i in inventory:\n",
    "        print(i + \": \" + str(inventory[i]))\n",
    "    \n",
    "    \n",
    "    \n"
   ]
  },
  {
   "cell_type": "code",
   "execution_count": 29,
   "id": "838a0004",
   "metadata": {},
   "outputs": [
    {
     "name": "stdout",
     "output_type": "stream",
     "text": [
      "Updated Inventory:\n",
      "t-shirt: 5\n",
      "mug: 4\n",
      "hat: 4\n",
      "book: 4\n",
      "keychain: 5\n"
     ]
    }
   ],
   "source": [
    "print_updated_inventory(inventory)"
   ]
  }
 ],
 "metadata": {
  "kernelspec": {
   "display_name": "Python 3 (ipykernel)",
   "language": "python",
   "name": "python3"
  },
  "language_info": {
   "codemirror_mode": {
    "name": "ipython",
    "version": 3
   },
   "file_extension": ".py",
   "mimetype": "text/x-python",
   "name": "python",
   "nbconvert_exporter": "python",
   "pygments_lexer": "ipython3",
   "version": "3.11.5"
  }
 },
 "nbformat": 4,
 "nbformat_minor": 5
}
